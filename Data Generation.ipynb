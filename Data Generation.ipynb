{
 "cells": [
  {
   "cell_type": "code",
   "execution_count": null,
   "id": "24f814bf-aed3-449d-ac11-b4c41fdb6e78",
   "metadata": {},
   "outputs": [],
   "source": []
  },
  {
   "cell_type": "code",
   "execution_count": 1,
   "id": "a883bbd1-1246-4c2c-9ba2-854a9f857727",
   "metadata": {},
   "outputs": [
    {
     "name": "stdout",
     "output_type": "stream",
     "text": [
      "Collecting faker\n",
      "  Downloading Faker-33.1.0-py3-none-any.whl (1.9 MB)\n",
      "Requirement already satisfied: typing-extensions in c:\\users\\user\\anaconda3\\lib\\site-packages (from faker) (4.11.0)\n",
      "Requirement already satisfied: python-dateutil>=2.4 in c:\\users\\user\\anaconda3\\lib\\site-packages (from faker) (2.9.0.post0)\n",
      "Requirement already satisfied: six>=1.5 in c:\\users\\user\\anaconda3\\lib\\site-packages (from python-dateutil>=2.4->faker) (1.16.0)\n",
      "Installing collected packages: faker\n",
      "Successfully installed faker-33.1.0\n"
     ]
    }
   ],
   "source": [
    "!pip install faker"
   ]
  },
  {
   "cell_type": "code",
   "execution_count": 2,
   "id": "db778d85-a4a5-4a4e-91da-1e0ae879807d",
   "metadata": {},
   "outputs": [],
   "source": [
    "from faker import Faker\n",
    "import csv\n",
    "import random\n",
    "from decimal import Decimal\n",
    "from datetime import datetime"
   ]
  },
  {
   "cell_type": "code",
   "execution_count": 3,
   "id": "16876114-f1f5-447e-8f2b-c0bc0f75d1e9",
   "metadata": {},
   "outputs": [],
   "source": [
    "RECORD_COUNT = 10000\n",
    "fake = Faker()"
   ]
  },
  {
   "cell_type": "code",
   "execution_count": 13,
   "id": "3dd3f22e-f952-40ce-935f-fc3f6a957fd9",
   "metadata": {},
   "outputs": [
    {
     "name": "stdout",
     "output_type": "stream",
     "text": [
      "20250101122014\n",
      "C:/Users/User/Python & Pandas for Data Engineering/Python for Data Engineering/Python Projects/3) Streaming DWH with Snowflake & AWS/FakeDataset\n"
     ]
    }
   ],
   "source": [
    "current_time = datetime.now().strftime(\"%Y%m%d%H%M%S\")\n",
    "print(current_time)\n",
    "\n",
    "file_path = \"C:/Users/User/Python & Pandas for Data Engineering/Python for Data Engineering/Python Projects/3) Streaming DWH with Snowflake & AWS/FakeDataset\"\n",
    "print(file_path)"
   ]
  },
  {
   "cell_type": "code",
   "execution_count": 1,
   "id": "64189867-0cc5-4024-af03-2c2eed9a9163",
   "metadata": {},
   "outputs": [],
   "source": [
    "def create_csv_file():\n",
    "    # Use an f-string to correctly use the file_path variable\n",
    "    with open(f'{file_path}/customer_{current_time}.csv', 'w', newline='') as csvfile:\n",
    "        fieldnames = [\"customer_id\", \"first_name\", \"last_name\", \"email\", \"street\", \"city\", \"state\", \"country\"]\n",
    "\n",
    "        writer = csv.DictWriter(csvfile, fieldnames=fieldnames)\n",
    "        writer.writeheader()\n",
    "\n",
    "        for i in range(RECORD_COUNT):\n",
    "            writer.writerow(\n",
    "                {\n",
    "                    \"customer_id\": i,\n",
    "                    \"first_name\": fake.first_name(),\n",
    "                    \"last_name\": fake.last_name(),\n",
    "                    \"email\": fake.email(),\n",
    "                    \"street\": fake.street_address(),\n",
    "                    \"city\": fake.city(),\n",
    "                    \"state\": fake.state(),\n",
    "                    \"country\": fake.country(),\n",
    "                }\n",
    "            )"
   ]
  },
  {
   "cell_type": "code",
   "execution_count": 2,
   "id": "f114d643-e883-4e93-a011-f9c76fc40c28",
   "metadata": {},
   "outputs": [
    {
     "ename": "NameError",
     "evalue": "name 'current_time' is not defined",
     "output_type": "error",
     "traceback": [
      "\u001b[1;31m---------------------------------------------------------------------------\u001b[0m",
      "\u001b[1;31mNameError\u001b[0m                                 Traceback (most recent call last)",
      "Cell \u001b[1;32mIn[2], line 2\u001b[0m\n\u001b[0;32m      1\u001b[0m \u001b[38;5;28;01mif\u001b[39;00m \u001b[38;5;18m__name__\u001b[39m \u001b[38;5;241m==\u001b[39m \u001b[38;5;124m'\u001b[39m\u001b[38;5;124m__main__\u001b[39m\u001b[38;5;124m'\u001b[39m:\n\u001b[1;32m----> 2\u001b[0m \t\u001b[43mcreate_csv_file\u001b[49m\u001b[43m(\u001b[49m\u001b[43m)\u001b[49m\n",
      "Cell \u001b[1;32mIn[1], line 3\u001b[0m, in \u001b[0;36mcreate_csv_file\u001b[1;34m()\u001b[0m\n\u001b[0;32m      1\u001b[0m \u001b[38;5;28;01mdef\u001b[39;00m \u001b[38;5;21mcreate_csv_file\u001b[39m():\n\u001b[0;32m      2\u001b[0m     \u001b[38;5;66;03m# Use an f-string to correctly use the file_path variable\u001b[39;00m\n\u001b[1;32m----> 3\u001b[0m     \u001b[38;5;28;01mwith\u001b[39;00m \u001b[38;5;28mopen\u001b[39m(\u001b[38;5;124mf\u001b[39m\u001b[38;5;124m'\u001b[39m\u001b[38;5;124mFakeDataset/customer_\u001b[39m\u001b[38;5;132;01m{\u001b[39;00mcurrent_time\u001b[38;5;132;01m}\u001b[39;00m\u001b[38;5;124m.csv\u001b[39m\u001b[38;5;124m'\u001b[39m, \u001b[38;5;124m'\u001b[39m\u001b[38;5;124mw\u001b[39m\u001b[38;5;124m'\u001b[39m, newline\u001b[38;5;241m=\u001b[39m\u001b[38;5;124m'\u001b[39m\u001b[38;5;124m'\u001b[39m) \u001b[38;5;28;01mas\u001b[39;00m csvfile:\n\u001b[0;32m      4\u001b[0m         fieldnames \u001b[38;5;241m=\u001b[39m [\u001b[38;5;124m\"\u001b[39m\u001b[38;5;124mcustomer_id\u001b[39m\u001b[38;5;124m\"\u001b[39m, \u001b[38;5;124m\"\u001b[39m\u001b[38;5;124mfirst_name\u001b[39m\u001b[38;5;124m\"\u001b[39m, \u001b[38;5;124m\"\u001b[39m\u001b[38;5;124mlast_name\u001b[39m\u001b[38;5;124m\"\u001b[39m, \u001b[38;5;124m\"\u001b[39m\u001b[38;5;124memail\u001b[39m\u001b[38;5;124m\"\u001b[39m, \u001b[38;5;124m\"\u001b[39m\u001b[38;5;124mstreet\u001b[39m\u001b[38;5;124m\"\u001b[39m, \u001b[38;5;124m\"\u001b[39m\u001b[38;5;124mcity\u001b[39m\u001b[38;5;124m\"\u001b[39m, \u001b[38;5;124m\"\u001b[39m\u001b[38;5;124mstate\u001b[39m\u001b[38;5;124m\"\u001b[39m, \u001b[38;5;124m\"\u001b[39m\u001b[38;5;124mcountry\u001b[39m\u001b[38;5;124m\"\u001b[39m]\n\u001b[0;32m      6\u001b[0m         writer \u001b[38;5;241m=\u001b[39m csv\u001b[38;5;241m.\u001b[39mDictWriter(csvfile, fieldnames\u001b[38;5;241m=\u001b[39mfieldnames)\n",
      "\u001b[1;31mNameError\u001b[0m: name 'current_time' is not defined"
     ]
    }
   ],
   "source": [
    "if __name__ == '__main__':\n",
    "\tcreate_csv_file()"
   ]
  },
  {
   "cell_type": "code",
   "execution_count": null,
   "id": "2f458827-fbfc-47fe-936b-b704b6002346",
   "metadata": {},
   "outputs": [],
   "source": []
  }
 ],
 "metadata": {
  "kernelspec": {
   "display_name": "Python 3 (ipykernel)",
   "language": "python",
   "name": "python3"
  },
  "language_info": {
   "codemirror_mode": {
    "name": "ipython",
    "version": 3
   },
   "file_extension": ".py",
   "mimetype": "text/x-python",
   "name": "python",
   "nbconvert_exporter": "python",
   "pygments_lexer": "ipython3",
   "version": "3.9.20"
  }
 },
 "nbformat": 4,
 "nbformat_minor": 5
}
